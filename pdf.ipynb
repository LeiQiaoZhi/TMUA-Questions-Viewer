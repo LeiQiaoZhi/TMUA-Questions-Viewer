{
 "cells": [
  {
   "cell_type": "code",
   "execution_count": 1,
   "metadata": {},
   "outputs": [
    {
     "name": "stdout",
     "output_type": "stream",
     "text": [
      "{'2024_Homework1': ['specimenP1Q1', 'specimenP1Q2', 'specimenP1Q6', 'specimenP1Q9', 'specimenP1Q13', 'specimenP1Q14', 'specimenP1Q16', '2016P1Q4', '2016P1Q8', '2016P1Q17'], '2024_Homework2': ['2016P1Q1', '2016P1Q19', '2016P1Q5', '2016P1Q15', '2016P1Q18', 'specimenP1Q3', 'specimenP1Q10', 'specimenP1Q12', '2016P1Q12', '2016P1Q20'], '2024_Homework3': ['2016P2Q19', '2016P2Q20', '2018P2Q8', '2016P2Q9', '2016P2Q15', '2018P2Q11', '2018P2Q17', 'specimenP2Q8', '2016P2Q4', 'specimenP2Q20'], '2024_Lesson2': ['2016P1Q2', 'specimenP1Q4', 'specimenP1Q17', 'specimenP1Q11', 'specimenP1Q19', '2016P1Q14', 'specimenP1Q5', 'specimenP1Q8', 'specimenP1Q18'], '2024_Lesson3&4': ['specimenP1Q20', '2016P1Q9', 'specimenP1Q15', '2016P1Q3']}\n"
     ]
    }
   ],
   "source": [
    "from data import TMUADataLoader\n",
    "data_loader = TMUADataLoader(\"questions.csv\")\n",
    "lists = data_loader.lists"
   ]
  },
  {
   "cell_type": "code",
   "execution_count": 2,
   "metadata": {},
   "outputs": [
    {
     "name": "stdout",
     "output_type": "stream",
     "text": [
      "FEDDDACCCD\n"
     ]
    },
    {
     "data": {
      "text/plain": [
       "['TMUA_Questions/2016P2/19.png',\n",
       " 'TMUA_Questions/2016P2/20.png',\n",
       " 'TMUA_Questions/2018P2/8.png',\n",
       " 'TMUA_Questions/2016P2/9.png',\n",
       " 'TMUA_Questions/2016P2/15.png',\n",
       " 'TMUA_Questions/2018P2/11.png',\n",
       " 'TMUA_Questions/2018P2/17.png',\n",
       " 'TMUA_Questions/specimenP2/8.png',\n",
       " 'TMUA_Questions/2016P2/4.png',\n",
       " 'TMUA_Questions/specimenP2/20.png']"
      ]
     },
     "execution_count": 2,
     "metadata": {},
     "output_type": "execute_result"
    }
   ],
   "source": [
    "FILE = \"2024_Homework3\"\n",
    "\n",
    "keys = lists[FILE]\n",
    "images_paths = []\n",
    "solutions_paths = []\n",
    "answers = []\n",
    "for key in keys:\n",
    "    mask = data_loader.df['key'] == key\n",
    "    row = data_loader.df[mask].iloc[0]\n",
    "    year = row['Year']\n",
    "    paper = row['P']\n",
    "    question = row['Q']\n",
    "    answers.append(row['Answer']) \n",
    "    images_paths.append(f\"TMUA_Questions/{year}{paper}/{question}.png\")\n",
    "    solutions_paths.append(f\"TMUA_Questions/{year}{paper}-solutions/{question}.png\")\n",
    "\n",
    "print(\"\".join(answers))\n",
    "images_paths"
   ]
  },
  {
   "cell_type": "code",
   "execution_count": 3,
   "metadata": {},
   "outputs": [],
   "source": [
    "from fpdf import FPDF\n",
    "from PIL import Image\n",
    "\n",
    "class PDF(FPDF):\n",
    "    def add_title_page(self, title, subtitle1, subtitle2, subtitle3):\n",
    "        self.add_page()\n",
    "        # Add title\n",
    "        self.set_xy(10, 60)\n",
    "        self.set_font(\"FONT\",size=32)\n",
    "        self.multi_cell(0, 10, title, align=\"C\")\n",
    "        \n",
    "        # Add subtitle1\n",
    "        self.set_xy(10, 100)\n",
    "        self.set_font(\"FONT\", size=18)\n",
    "        self.multi_cell(0, 10, subtitle1, align=\"C\")\n",
    "        \n",
    "        # Add subtitle2\n",
    "        self.set_xy(10, 120)\n",
    "        self.set_font(\"FONT\", size=18)\n",
    "        self.multi_cell(0, 10, subtitle2, align=\"C\")\n",
    "        \n",
    "        # Add subtitle3\n",
    "        self.set_xy(10, 140)\n",
    "        self.set_font(\"FONT\", size=12)\n",
    "        self.multi_cell(0, 10, subtitle3, align=\"C\")\n",
    "\n",
    "    def add_page_with_image(self, image_path, label_text):\n",
    "        self.add_page()\n",
    "        # Add label text above the image\n",
    "        self.set_xy(10, 10)\n",
    "        self.set_font(\"FONT\", size=20)\n",
    "        self.multi_cell(0, 10, label_text)\n",
    "        \n",
    "        # Calculate image placement\n",
    "        image = Image.open(image_path)\n",
    "        img_width, img_height = image.size\n",
    "        # Aspect ratio for the image\n",
    "        aspect_ratio = img_width / img_height\n",
    "        \n",
    "        # Set width to 190 (for example), and calculate the height keeping the aspect ratio\n",
    "        width = 190\n",
    "        height = width / aspect_ratio\n",
    "        \n",
    "        # Add image below the label\n",
    "        self.image(image_path, x=10, y=20, w=width)  # y=20 to give some space after the label\n"
   ]
  },
  {
   "cell_type": "code",
   "execution_count": 4,
   "metadata": {},
   "outputs": [
    {
     "name": "stderr",
     "output_type": "stream",
     "text": [
      "c:\\Program Files\\Python312\\Lib\\site-packages\\fpdf\\ttfonts.py:670: UserWarning: cmap value too big/small: -34890\n",
      "  warnings.warn(\"cmap value too big/small: %s\" % cm)\n",
      "c:\\Program Files\\Python312\\Lib\\site-packages\\fpdf\\ttfonts.py:670: UserWarning: cmap value too big/small: -35152\n",
      "  warnings.warn(\"cmap value too big/small: %s\" % cm)\n",
      "c:\\Program Files\\Python312\\Lib\\site-packages\\fpdf\\ttfonts.py:670: UserWarning: cmap value too big/small: -35709\n",
      "  warnings.warn(\"cmap value too big/small: %s\" % cm)\n",
      "c:\\Program Files\\Python312\\Lib\\site-packages\\fpdf\\ttfonts.py:670: UserWarning: cmap value too big/small: -35792\n",
      "  warnings.warn(\"cmap value too big/small: %s\" % cm)\n",
      "c:\\Program Files\\Python312\\Lib\\site-packages\\fpdf\\ttfonts.py:670: UserWarning: cmap value too big/small: -65263\n",
      "  warnings.warn(\"cmap value too big/small: %s\" % cm)\n"
     ]
    },
    {
     "data": {
      "text/plain": [
       "''"
      ]
     },
     "execution_count": 4,
     "metadata": {},
     "output_type": "execute_result"
    }
   ],
   "source": [
    "solution_pdf = PDF()\n",
    "solution_pdf.add_font('FONT', '', r'C:\\Users\\user\\AppData\\Local\\Microsoft\\Windows\\Fonts\\STZHONGS.TTF', uni=True)\n",
    "solution_pdf.set_font('FONT', '', 14)\n",
    "title = \"TMUA Homework 3\"\n",
    "subtitle1 = \"10 Questions\"\n",
    "subtitle2 = \"40 Minutes\"\n",
    "subtitle3 = \"请计时并不要使用计算器，完成后请填写线上表格提交作业\"\n",
    "solution_pdf.add_title_page(title, subtitle1, subtitle2, subtitle3)\n",
    "for i, image_path in enumerate(images_paths):\n",
    "    solution_pdf.add_page_with_image(image_path, f\"Question {i+1}\")\n",
    "\n",
    "solution_pdf.output(f\"PDFs/{FILE}.pdf\")"
   ]
  },
  {
   "cell_type": "code",
   "execution_count": 5,
   "metadata": {},
   "outputs": [],
   "source": [
    "solution_pdf = PDF()\n",
    "solution_pdf.add_font('FONT', '', r'C:\\Users\\user\\AppData\\Local\\Microsoft\\Windows\\Fonts\\STZHONGS.TTF', uni=True)\n",
    "solution_pdf.set_font('FONT', '', 14)\n",
    "title = \"TMUA Homework 3 Solutions\"\n",
    "subtitle1 = \"10 Questions\"\n",
    "subtitle2 = \"40 Minutes\"\n",
    "subtitle3 = f\"Answers: {''.join(answers)}\"\n",
    "solution_pdf.add_title_page(title, subtitle1, subtitle2, subtitle3)\n",
    "for i, solution_path in enumerate(solutions_paths):\n",
    "    solution_pdf.add_page_with_image(solution_path, f\"Question {i+1}\")\n",
    "\n",
    "solution_pdf.output(f\"PDFs/{FILE}_Solutions.pdf\")"
   ]
  }
 ],
 "metadata": {
  "kernelspec": {
   "display_name": "Python 3",
   "language": "python",
   "name": "python3"
  },
  "language_info": {
   "codemirror_mode": {
    "name": "ipython",
    "version": 3
   },
   "file_extension": ".py",
   "mimetype": "text/x-python",
   "name": "python",
   "nbconvert_exporter": "python",
   "pygments_lexer": "ipython3",
   "version": "3.12.4"
  }
 },
 "nbformat": 4,
 "nbformat_minor": 2
}
