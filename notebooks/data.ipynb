{
 "cells": [
  {
   "cell_type": "code",
   "execution_count": 3,
   "metadata": {},
   "outputs": [],
   "source": [
    "import pandas as pd\n",
    "import numpy as np"
   ]
  },
  {
   "cell_type": "code",
   "execution_count": 4,
   "metadata": {},
   "outputs": [],
   "source": [
    "class TMUADataLoader:\n",
    "    def __init__(self, data_path):\n",
    "        self.data_path = data_path\n",
    "        self.df = pd.read_csv(data_path)\n",
    "        self.years = self.df['Year'].unique()\n",
    "        self.papers = self.df['P'].unique()\n",
    "        self.categories = np.unique(np.concatenate([self.df.Category.unique(), self.df[\"Sub-Category\"].dropna().unique()]))\n",
    "        self.approaches = self.df['Approach'].dropna().unique()\n",
    "        self.types = self.df['Type'].dropna().unique()\n",
    "\n",
    "    def get_filter_options(self):\n",
    "        return {\n",
    "            'Years': self.years,\n",
    "            'Papers': self.papers,\n",
    "            'Categories': self.categories,\n",
    "            'Approaches': self.approaches,\n",
    "            'Types': self.types\n",
    "        }\n",
    "\n",
    "    def get_all_questions(self):\n",
    "        return self.df\n"
   ]
  },
  {
   "cell_type": "code",
   "execution_count": 5,
   "metadata": {},
   "outputs": [
    {
     "data": {
      "text/plain": [
       "{'Years': array(['specimen', '2016'], dtype=object),\n",
       " 'Papers': array(['P1', 'P2'], dtype=object),\n",
       " 'Categories': array(['Algebra', 'Calculus', 'Counterexample', 'Exp & Log', 'Geometry',\n",
       "        'Graph', 'N True', 'Necessary & Sufficient', 'Probability',\n",
       "        'Sequence & Series', 'Steps of Proofs', 'Trigonometry', 'Weird'],\n",
       "       dtype=object),\n",
       " 'Approaches': array(['Substitution', 'Graph'], dtype=object),\n",
       " 'Types': array(['Number of Roots', 'Stationary Point', 'Binomial Expansion',\n",
       "        'Implication'], dtype=object)}"
      ]
     },
     "execution_count": 5,
     "metadata": {},
     "output_type": "execute_result"
    }
   ],
   "source": [
    "data_loader = TMUADataLoader('questions.csv')\n",
    "filter_options = data_loader.get_filter_options()\n",
    "filter_options"
   ]
  },
  {
   "cell_type": "code",
   "execution_count": 6,
   "metadata": {},
   "outputs": [],
   "source": [
    "df = pd.read_csv('questions.csv')\n",
    "\n",
    "df['key'] = df.Year.astype(str) + df.P.astype(str) + \"Q\" + df.Q.astype(str)"
   ]
  },
  {
   "cell_type": "code",
   "execution_count": 28,
   "metadata": {},
   "outputs": [],
   "source": [
    "import re\n",
    "\n",
    "def parse_question(string):\n",
    "    pattern = r'(\\w+)P(\\d+)Q(\\d+)'\n",
    "    match = re.search(pattern, string)\n",
    "\n",
    "    if match:\n",
    "        year = match.group(1)\n",
    "        p = match.group(2)\n",
    "        q = match.group(3)\n",
    "        \n",
    "        return year, p, q\n",
    "    else:\n",
    "        # error\n",
    "        print(f\"Error parsing question {string}\")\n",
    "        return None, None, None"
   ]
  },
  {
   "cell_type": "code",
   "execution_count": 56,
   "metadata": {},
   "outputs": [
    {
     "name": "stdout",
     "output_type": "stream",
     "text": [
      "specimen 1 1\n",
      "specimen 1 2\n",
      "specimen 1 3\n",
      "specimen 1 4\n",
      "2016 1 2\n",
      "specimen 1 4\n",
      "specimen 1 17\n",
      "specimen 1 11\n",
      "specimen 1 19\n",
      "2016 1 14\n",
      "specimen 1 5\n",
      "specimen 1 8\n",
      "specimen 1 18\n",
      "{'2024_Homework1': ['specimenP1Q1', 'specimenP1Q2', 'specimenP1Q3', 'specimenP1Q4'], '2024_Lesson1': ['2016P1Q2', 'specimenP1Q4', 'specimenP1Q17', 'specimenP1Q11', 'specimenP1Q19', '2016P1Q14', 'specimenP1Q5', 'specimenP1Q8', 'specimenP1Q18']}\n"
     ]
    },
    {
     "ename": "KeyError",
     "evalue": "'a'",
     "output_type": "error",
     "traceback": [
      "\u001b[1;31m---------------------------------------------------------------------------\u001b[0m",
      "\u001b[1;31mKeyError\u001b[0m                                  Traceback (most recent call last)",
      "File \u001b[1;32mc:\\Program Files\\Python312\\Lib\\site-packages\\pandas\\core\\indexes\\base.py:3805\u001b[0m, in \u001b[0;36mIndex.get_loc\u001b[1;34m(self, key)\u001b[0m\n\u001b[0;32m   3804\u001b[0m \u001b[38;5;28;01mtry\u001b[39;00m:\n\u001b[1;32m-> 3805\u001b[0m     \u001b[38;5;28;01mreturn\u001b[39;00m \u001b[38;5;28;43mself\u001b[39;49m\u001b[38;5;241;43m.\u001b[39;49m\u001b[43m_engine\u001b[49m\u001b[38;5;241;43m.\u001b[39;49m\u001b[43mget_loc\u001b[49m\u001b[43m(\u001b[49m\u001b[43mcasted_key\u001b[49m\u001b[43m)\u001b[49m\n\u001b[0;32m   3806\u001b[0m \u001b[38;5;28;01mexcept\u001b[39;00m \u001b[38;5;167;01mKeyError\u001b[39;00m \u001b[38;5;28;01mas\u001b[39;00m err:\n",
      "File \u001b[1;32mindex.pyx:167\u001b[0m, in \u001b[0;36mpandas._libs.index.IndexEngine.get_loc\u001b[1;34m()\u001b[0m\n",
      "File \u001b[1;32mindex.pyx:196\u001b[0m, in \u001b[0;36mpandas._libs.index.IndexEngine.get_loc\u001b[1;34m()\u001b[0m\n",
      "File \u001b[1;32mpandas\\\\_libs\\\\hashtable_class_helper.pxi:7081\u001b[0m, in \u001b[0;36mpandas._libs.hashtable.PyObjectHashTable.get_item\u001b[1;34m()\u001b[0m\n",
      "File \u001b[1;32mpandas\\\\_libs\\\\hashtable_class_helper.pxi:7089\u001b[0m, in \u001b[0;36mpandas._libs.hashtable.PyObjectHashTable.get_item\u001b[1;34m()\u001b[0m\n",
      "\u001b[1;31mKeyError\u001b[0m: 'a'",
      "\nThe above exception was the direct cause of the following exception:\n",
      "\u001b[1;31mKeyError\u001b[0m                                  Traceback (most recent call last)",
      "Cell \u001b[1;32mIn[56], line 29\u001b[0m\n\u001b[0;32m     26\u001b[0m df\u001b[38;5;241m.\u001b[39mloc[mask, \u001b[38;5;124m'\u001b[39m\u001b[38;5;124min_list\u001b[39m\u001b[38;5;124m'\u001b[39m] \u001b[38;5;241m=\u001b[39m df\u001b[38;5;241m.\u001b[39mloc[mask, \u001b[38;5;124m'\u001b[39m\u001b[38;5;124min_list\u001b[39m\u001b[38;5;124m'\u001b[39m]\u001b[38;5;241m.\u001b[39mapply(\u001b[38;5;28;01mlambda\u001b[39;00m x: x \u001b[38;5;241m+\u001b[39m [list_name])\n\u001b[0;32m     28\u001b[0m filtered_df \u001b[38;5;241m=\u001b[39m df[mask]\n\u001b[1;32m---> 29\u001b[0m filtered_df[\u001b[38;5;124m'\u001b[39m\u001b[38;5;124ma\u001b[39m\u001b[38;5;124m'\u001b[39m] \u001b[38;5;241m=\u001b[39m pd\u001b[38;5;241m.\u001b[39mCategorical(\u001b[43mfiltered_df\u001b[49m\u001b[43m[\u001b[49m\u001b[38;5;124;43m'\u001b[39;49m\u001b[38;5;124;43ma\u001b[39;49m\u001b[38;5;124;43m'\u001b[39;49m\u001b[43m]\u001b[49m, categories\u001b[38;5;241m=\u001b[39mlists[\u001b[38;5;124m'\u001b[39m\u001b[38;5;124m2024_Lesson1\u001b[39m\u001b[38;5;124m'\u001b[39m], ordered\u001b[38;5;241m=\u001b[39m\u001b[38;5;28;01mTrue\u001b[39;00m)\n\u001b[0;32m     30\u001b[0m sorted_df \u001b[38;5;241m=\u001b[39m filtered_df\u001b[38;5;241m.\u001b[39msort_values(\u001b[38;5;124m'\u001b[39m\u001b[38;5;124ma\u001b[39m\u001b[38;5;124m'\u001b[39m)\n\u001b[0;32m     31\u001b[0m \u001b[38;5;28mprint\u001b[39m(sorted_df[[\u001b[38;5;124m'\u001b[39m\u001b[38;5;124mkey\u001b[39m\u001b[38;5;124m'\u001b[39m, \u001b[38;5;124m'\u001b[39m\u001b[38;5;124mP\u001b[39m\u001b[38;5;124m'\u001b[39m, \u001b[38;5;124m'\u001b[39m\u001b[38;5;124mQ\u001b[39m\u001b[38;5;124m'\u001b[39m, \u001b[38;5;124m'\u001b[39m\u001b[38;5;124min_list\u001b[39m\u001b[38;5;124m'\u001b[39m]])\n",
      "File \u001b[1;32mc:\\Program Files\\Python312\\Lib\\site-packages\\pandas\\core\\frame.py:4102\u001b[0m, in \u001b[0;36mDataFrame.__getitem__\u001b[1;34m(self, key)\u001b[0m\n\u001b[0;32m   4100\u001b[0m \u001b[38;5;28;01mif\u001b[39;00m \u001b[38;5;28mself\u001b[39m\u001b[38;5;241m.\u001b[39mcolumns\u001b[38;5;241m.\u001b[39mnlevels \u001b[38;5;241m>\u001b[39m \u001b[38;5;241m1\u001b[39m:\n\u001b[0;32m   4101\u001b[0m     \u001b[38;5;28;01mreturn\u001b[39;00m \u001b[38;5;28mself\u001b[39m\u001b[38;5;241m.\u001b[39m_getitem_multilevel(key)\n\u001b[1;32m-> 4102\u001b[0m indexer \u001b[38;5;241m=\u001b[39m \u001b[38;5;28;43mself\u001b[39;49m\u001b[38;5;241;43m.\u001b[39;49m\u001b[43mcolumns\u001b[49m\u001b[38;5;241;43m.\u001b[39;49m\u001b[43mget_loc\u001b[49m\u001b[43m(\u001b[49m\u001b[43mkey\u001b[49m\u001b[43m)\u001b[49m\n\u001b[0;32m   4103\u001b[0m \u001b[38;5;28;01mif\u001b[39;00m is_integer(indexer):\n\u001b[0;32m   4104\u001b[0m     indexer \u001b[38;5;241m=\u001b[39m [indexer]\n",
      "File \u001b[1;32mc:\\Program Files\\Python312\\Lib\\site-packages\\pandas\\core\\indexes\\base.py:3812\u001b[0m, in \u001b[0;36mIndex.get_loc\u001b[1;34m(self, key)\u001b[0m\n\u001b[0;32m   3807\u001b[0m     \u001b[38;5;28;01mif\u001b[39;00m \u001b[38;5;28misinstance\u001b[39m(casted_key, \u001b[38;5;28mslice\u001b[39m) \u001b[38;5;129;01mor\u001b[39;00m (\n\u001b[0;32m   3808\u001b[0m         \u001b[38;5;28misinstance\u001b[39m(casted_key, abc\u001b[38;5;241m.\u001b[39mIterable)\n\u001b[0;32m   3809\u001b[0m         \u001b[38;5;129;01mand\u001b[39;00m \u001b[38;5;28many\u001b[39m(\u001b[38;5;28misinstance\u001b[39m(x, \u001b[38;5;28mslice\u001b[39m) \u001b[38;5;28;01mfor\u001b[39;00m x \u001b[38;5;129;01min\u001b[39;00m casted_key)\n\u001b[0;32m   3810\u001b[0m     ):\n\u001b[0;32m   3811\u001b[0m         \u001b[38;5;28;01mraise\u001b[39;00m InvalidIndexError(key)\n\u001b[1;32m-> 3812\u001b[0m     \u001b[38;5;28;01mraise\u001b[39;00m \u001b[38;5;167;01mKeyError\u001b[39;00m(key) \u001b[38;5;28;01mfrom\u001b[39;00m \u001b[38;5;21;01merr\u001b[39;00m\n\u001b[0;32m   3813\u001b[0m \u001b[38;5;28;01mexcept\u001b[39;00m \u001b[38;5;167;01mTypeError\u001b[39;00m:\n\u001b[0;32m   3814\u001b[0m     \u001b[38;5;66;03m# If we have a listlike key, _check_indexing_error will raise\u001b[39;00m\n\u001b[0;32m   3815\u001b[0m     \u001b[38;5;66;03m#  InvalidIndexError. Otherwise we fall through and re-raise\u001b[39;00m\n\u001b[0;32m   3816\u001b[0m     \u001b[38;5;66;03m#  the TypeError.\u001b[39;00m\n\u001b[0;32m   3817\u001b[0m     \u001b[38;5;28mself\u001b[39m\u001b[38;5;241m.\u001b[39m_check_indexing_error(key)\n",
      "\u001b[1;31mKeyError\u001b[0m: 'a'"
     ]
    }
   ],
   "source": [
    "import os\n",
    "LIST_PATH = './Lists/'\n",
    "list_files = [f for f in os.listdir(LIST_PATH) if os.path.isfile(os.path.join(LIST_PATH, f))]\n",
    "\n",
    "lists = {}\n",
    "# parse the list files\n",
    "for list_file in list_files:\n",
    "    with open(LIST_PATH + list_file, 'r') as f:\n",
    "        list_file = list_file.replace(\".txt\", \"\")\n",
    "        lists[list_file] = []\n",
    "        for line in f:\n",
    "            if not line.strip():\n",
    "                continue\n",
    "            string = line.strip().replace(\" \", \"\").replace(\"\\n\", \"\")\n",
    "            year, paper, question = parse_question(string)\n",
    "            year = year.replace(\"spec\", \"specimen\")\n",
    "            print(year, paper, question)\n",
    "            lists[list_file].append(year + \"P\" + paper + \"Q\" + question)\n",
    "\n",
    "# process the df\n",
    "print(lists)\n",
    "df['in_list'] = [[] for _ in range(len(df))]\n",
    "\n",
    "for list_name, list in lists.items():\n",
    "    mask = df['key'].isin(list)\n",
    "    df.loc[mask, 'in_list'] = df.loc[mask, 'in_list'].apply(lambda x: x + [list_name])\n",
    "    \n",
    "    filtered_df = df[mask]\n",
    "    filtered_df['key'] = pd.Categorical(filtered_df['key'], categories=lists['2024_Lesson1'], ordered=True)\n",
    "    sorted_df = filtered_df.sort_values('key')\n",
    "    print(sorted_df[['key', 'P', 'Q', 'in_list']])\n",
    "\n",
    "df"
   ]
  },
  {
   "cell_type": "code",
   "execution_count": 9,
   "metadata": {},
   "outputs": [
    {
     "data": {
      "text/plain": [
       "['Algebra',\n",
       " 'Calculus',\n",
       " 'Counterexample',\n",
       " 'Exp & Log',\n",
       " 'Geometry',\n",
       " 'Graph',\n",
       " 'N True',\n",
       " 'Necessary & Sufficient',\n",
       " 'Probability',\n",
       " 'Sequence & Series',\n",
       " 'Steps of Proofs',\n",
       " 'Trigonometry',\n",
       " 'Weird']"
      ]
     },
     "execution_count": 9,
     "metadata": {},
     "output_type": "execute_result"
    }
   ],
   "source": [
    "sorted(list(df.Category.unique()))"
   ]
  },
  {
   "cell_type": "code",
   "execution_count": 10,
   "metadata": {},
   "outputs": [
    {
     "data": {
      "text/plain": [
       "array(['Trigonometry', 'Algebra', 'Exp & Log', 'Graph', 'Calculus'],\n",
       "      dtype=object)"
      ]
     },
     "execution_count": 10,
     "metadata": {},
     "output_type": "execute_result"
    }
   ],
   "source": [
    "df[\"Sub-Category\"].dropna().unique()"
   ]
  },
  {
   "cell_type": "code",
   "execution_count": 11,
   "metadata": {},
   "outputs": [
    {
     "data": {
      "text/plain": [
       "['Algebra',\n",
       " 'Calculus',\n",
       " 'Counterexample',\n",
       " 'Exp & Log',\n",
       " 'Geometry',\n",
       " 'Graph',\n",
       " 'N True',\n",
       " 'Necessary & Sufficient',\n",
       " 'Probability',\n",
       " 'Sequence & Series',\n",
       " 'Steps of Proofs',\n",
       " 'Trigonometry',\n",
       " 'Weird']"
      ]
     },
     "execution_count": 11,
     "metadata": {},
     "output_type": "execute_result"
    }
   ],
   "source": [
    "list(np.unique(np.concatenate([df.Category.unique(), df[\"Sub-Category\"].dropna().unique()])))"
   ]
  }
 ],
 "metadata": {
  "kernelspec": {
   "display_name": "Python 3",
   "language": "python",
   "name": "python3"
  },
  "language_info": {
   "codemirror_mode": {
    "name": "ipython",
    "version": 3
   },
   "file_extension": ".py",
   "mimetype": "text/x-python",
   "name": "python",
   "nbconvert_exporter": "python",
   "pygments_lexer": "ipython3",
   "version": "3.12.4"
  }
 },
 "nbformat": 4,
 "nbformat_minor": 2
}
